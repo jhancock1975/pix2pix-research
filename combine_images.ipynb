{
 "cells": [
  {
   "cell_type": "markdown",
   "metadata": {},
   "source": [
    "# Combine_images\n",
    "This notebook contains a function, plus example usage, for preparing images for input to pix2pix - the code documented in https://github.com/junyanz/pytorch-CycleGAN-and-pix2pix."
   ]
  },
  {
   "cell_type": "code",
   "execution_count": 3,
   "metadata": {},
   "outputs": [],
   "source": [
    "import numpy as np\n",
    "\n",
    "import matplotlib.pyplot as plt\n",
    "%matplotlib inline\n",
    "\n",
    "import pandas as pd\n",
    "\n",
    "import seaborn as sns\n",
    "sns.set()\n",
    "\n",
    "import scipy.stats as ss\n",
    "\n",
    "from IPython.display import display, Markdown, Math, Latex\n",
    "\n",
    "from PIL import Image"
   ]
  },
  {
   "cell_type": "code",
   "execution_count": 9,
   "metadata": {},
   "outputs": [],
   "source": [
    "def merge_images(img_name_1, img_name_2):\n",
    "    \"\"\" resize images img_name_1 and img_name_2 refer to\n",
    "    to 256x256 and save as combined 512x256 array\n",
    "    @param img_name_1: file name, file must contain an image\n",
    "    @param img_name_2: file name, file must contain an image\n",
    "    \"\"\"\n",
    "    img_a = Image.open('hills-in-water.jpg').resize((256,256), Image.ANTIALIAS)\n",
    "    img_b = Image.open('Tsunami_by_hokusai_19th_century.jpg').resize((256,256), Image.ANTIALIAS)\n",
    "    return np.concatenate([img_a, img_b], 1)\n",
    "\n",
    "Image.fromarray(merge_images('hills-in-water.jpg','Tsunami_by_hokusai_19th_century.jpg')).save('1.jpg')"
   ]
  },
  {
   "cell_type": "code",
   "execution_count": 10,
   "metadata": {},
   "outputs": [],
   "source": [
    "for file_name in ['hills-in-water.jpg','Tsunami_by_hokusai_19th_century.jpg']:\n",
    "    Image.open('hills-in-water.jpg').resize((256,256), Image.ANTIALIAS).save('hills-in-water-256.jpg')"
   ]
  }
 ],
 "metadata": {
  "kernelspec": {
   "display_name": "Python 3",
   "language": "python",
   "name": "python3"
  },
  "language_info": {
   "codemirror_mode": {
    "name": "ipython",
    "version": 3
   },
   "file_extension": ".py",
   "mimetype": "text/x-python",
   "name": "python",
   "nbconvert_exporter": "python",
   "pygments_lexer": "ipython3",
   "version": "3.5.2"
  }
 },
 "nbformat": 4,
 "nbformat_minor": 2
}
